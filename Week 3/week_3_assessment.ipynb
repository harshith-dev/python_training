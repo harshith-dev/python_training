{
 "cells": [
  {
   "cell_type": "markdown",
   "id": "7532a6df",
   "metadata": {},
   "source": [
    "1. Write a regex to find all digits in a string and return them as a list."
   ]
  },
  {
   "cell_type": "code",
   "execution_count": null,
   "id": "3b8b0434",
   "metadata": {},
   "outputs": [
    {
     "name": "stdout",
     "output_type": "stream",
     "text": [
      "['1', '2', '3', '4', '5', '6', '7', '8', '9']\n"
     ]
    }
   ],
   "source": [
    "import re\n",
    "\n",
    "def find_digits(text):\n",
    "    return re.findall(r'\\d', text)\n",
    "\n",
    "text = \"Harshith_123_fissionlabs_456_hyderabad_789\"\n",
    "digits = find_digits(text)\n",
    "print(digits)"
   ]
  },
  {
   "cell_type": "markdown",
   "id": "1c1d57e9",
   "metadata": {},
   "source": [
    "2. Write a regex function that replaces all multiple spaces in a string with a single space."
   ]
  },
  {
   "cell_type": "code",
   "execution_count": 30,
   "id": "3fcf057a",
   "metadata": {},
   "outputs": [
    {
     "name": "stdout",
     "output_type": "stream",
     "text": [
      "Some text with random spaces\n"
     ]
    }
   ],
   "source": [
    "def replace_all_spaces(text):\n",
    "    return re.sub(r'\\s+', ' ', text)\n",
    "\n",
    "text = \"Some          text         with                  random spaces\"\n",
    "text = replace_all_spaces(text)\n",
    "print(text)"
   ]
  },
  {
   "cell_type": "markdown",
   "id": "b1d7a030",
   "metadata": {},
   "source": [
    "3. Write a regex pattern to extract all valid email addresses from a given text.\n"
   ]
  },
  {
   "cell_type": "code",
   "execution_count": 34,
   "id": "5678a093",
   "metadata": {},
   "outputs": [
    {
     "name": "stdout",
     "output_type": "stream",
     "text": [
      "['Harshith.gandla@fissionlabs.com', 'harshith@email.gov.in']\n"
     ]
    }
   ],
   "source": [
    "def mails_extract(s):\n",
    "\n",
    "    pattern = r'[a-zA-Z0-9._-]+@[a-zA-Z0-9.-]+\\.[a-zA-Z]{2,}'\n",
    "    return re.findall(pattern, s)\n",
    "\n",
    "text = \"My name is Sri Harshith and my email is Harshith.gandla@fissionlabs.com and harshith@email.gov.in\"\n",
    "emails = mails_extract(text)\n",
    "print(emails) "
   ]
  },
  {
   "cell_type": "code",
   "execution_count": null,
   "id": "5312c418",
   "metadata": {},
   "outputs": [],
   "source": []
  }
 ],
 "metadata": {
  "kernelspec": {
   "display_name": ".venv",
   "language": "python",
   "name": "python3"
  },
  "language_info": {
   "codemirror_mode": {
    "name": "ipython",
    "version": 3
   },
   "file_extension": ".py",
   "mimetype": "text/x-python",
   "name": "python",
   "nbconvert_exporter": "python",
   "pygments_lexer": "ipython3",
   "version": "3.13.3"
  }
 },
 "nbformat": 4,
 "nbformat_minor": 5
}
