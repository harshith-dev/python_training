{
 "cells": [
  {
   "cell_type": "code",
   "execution_count": 1,
   "id": "3668ccf8",
   "metadata": {},
   "outputs": [
    {
     "name": "stdout",
     "output_type": "stream",
     "text": [
      "7\n"
     ]
    }
   ],
   "source": [
    "# Write a function that takes two numbers as input and returns their sum.\n",
    "\n",
    "def sum_of_two_numbers(a,b):\n",
    "    return a+b\n",
    "\n",
    "\n",
    "a = int(input(\"Enter the first number\"))\n",
    "b = int(input(\"Enter the second number\"))\n",
    "\n",
    "print(sum_of_two_numbers(a,b))"
   ]
  },
  {
   "cell_type": "code",
   "execution_count": 3,
   "id": "6fb14311",
   "metadata": {},
   "outputs": [
    {
     "name": "stdout",
     "output_type": "stream",
     "text": [
      "10 is an even number\n"
     ]
    }
   ],
   "source": [
    "# Write a Python program that checks whether a number is even or odd using a function.\n",
    "def is_odd(a):\n",
    "    return 0 if a%2 == 0 else 1\n",
    "\n",
    "a = int(input(\"enter a number\"))\n",
    "if is_odd(a):\n",
    "    print(f\"{a} is an odd number\")\n",
    "else:\n",
    "    print(f\"{a} is an even number\")"
   ]
  },
  {
   "cell_type": "code",
   "execution_count": null,
   "id": "cd87096f",
   "metadata": {},
   "outputs": [],
   "source": []
  }
 ],
 "metadata": {
  "kernelspec": {
   "display_name": ".venv",
   "language": "python",
   "name": "python3"
  },
  "language_info": {
   "codemirror_mode": {
    "name": "ipython",
    "version": 3
   },
   "file_extension": ".py",
   "mimetype": "text/x-python",
   "name": "python",
   "nbconvert_exporter": "python",
   "pygments_lexer": "ipython3",
   "version": "3.10.11"
  }
 },
 "nbformat": 4,
 "nbformat_minor": 5
}
