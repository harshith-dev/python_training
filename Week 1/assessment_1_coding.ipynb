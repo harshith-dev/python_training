{
 "cells": [
  {
   "cell_type": "code",
   "execution_count": 18,
   "id": "3668ccf8",
   "metadata": {},
   "outputs": [
    {
     "name": "stdout",
     "output_type": "stream",
     "text": [
      "15.0\n"
     ]
    }
   ],
   "source": [
    "# Write a function that takes two numbers as input and returns their sum.\n",
    "\n",
    "def sum_of_two_numbers(a,b):\n",
    "    return a+b\n",
    "\n",
    "try:\n",
    "    a = float(input(\"Enter the first number\"))\n",
    "    b = float(input(\"Enter the second number\"))\n",
    "    print(sum_of_two_numbers(a,b))\n",
    "except:\n",
    "    print(\"Please enter int or float values only\")\n",
    "\n"
   ]
  },
  {
   "cell_type": "code",
   "execution_count": 13,
   "id": "6fb14311",
   "metadata": {},
   "outputs": [
    {
     "name": "stdout",
     "output_type": "stream",
     "text": [
      "Please enter an integer\n"
     ]
    }
   ],
   "source": [
    "# Write a Python program that checks whether a number is even or odd using a function.\n",
    "def is_odd(a):\n",
    "    return 0 if a%2 == 0 else 1\n",
    "\n",
    "\n",
    "try:\n",
    "    a = int(input(\"enter a number\"))\n",
    "    if is_odd(a):\n",
    "        print(f\"{a} is an odd number\")\n",
    "    else:\n",
    "        print(f\"{a} is an even number\")\n",
    "except:\n",
    "    print(\"Please enter an integer\")"
   ]
  }
 ],
 "metadata": {
  "kernelspec": {
   "display_name": ".venv",
   "language": "python",
   "name": "python3"
  },
  "language_info": {
   "codemirror_mode": {
    "name": "ipython",
    "version": 3
   },
   "file_extension": ".py",
   "mimetype": "text/x-python",
   "name": "python",
   "nbconvert_exporter": "python",
   "pygments_lexer": "ipython3",
   "version": "3.13.3"
  }
 },
 "nbformat": 4,
 "nbformat_minor": 5
}
