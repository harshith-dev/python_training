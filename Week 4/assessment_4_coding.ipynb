{
 "cells": [
  {
   "cell_type": "markdown",
   "id": "0eaf6d2d",
   "metadata": {},
   "source": [
    "1.  Write a list comprehension to generate a list of squares from 1 to 10.\n",
    "\n",
    "```\n",
    "Example 1:\n",
    "Input: Range = 1 to 10\n",
    "Output: [1, 4, 9, 16, 25, 36, 49, 64, 81, 100]\n",
    "\n",
    "Example 2:\n",
    "Input: Range = 1 to 5\n",
    "Output: [1, 4, 9, 16, 25]\n",
    "\n",
    "Example 3:\n",
    "Input: Range = 3 to 6\n",
    "Output: [9, 16, 25, 36]\n",
    "```"
   ]
  },
  {
   "cell_type": "code",
   "execution_count": 9,
   "id": "0d9f21d3",
   "metadata": {},
   "outputs": [
    {
     "data": {
      "text/plain": [
       "[1, 4, 9, 16, 25]"
      ]
     },
     "execution_count": 9,
     "metadata": {},
     "output_type": "execute_result"
    }
   ],
   "source": [
    "[x**2 for x in range(1,6)]"
   ]
  },
  {
   "cell_type": "markdown",
   "id": "8abda477",
   "metadata": {},
   "source": [
    "2.  Write a function that takes a list of numbers and returns their sum using enumerate (do not use sum()).\n",
    "\n",
    "```\n",
    "Example 1:\n",
    "Input: [1, 2, 3, 4]\n",
    "Output: 10\n",
    "\n",
    "Example 2:\n",
    "Input: [5, 10, 15]\n",
    "Output: 30\n",
    "\n",
    "Example 3:\n",
    "Input: [-1, 0, 1]\n",
    "Output: 0\n",
    "```"
   ]
  },
  {
   "cell_type": "code",
   "execution_count": 38,
   "id": "06a292ef",
   "metadata": {},
   "outputs": [
    {
     "name": "stdout",
     "output_type": "stream",
     "text": [
      "30\n"
     ]
    }
   ],
   "source": [
    "def total(numbers):\n",
    "    total_sum = 0\n",
    "    for idx, num in enumerate(numbers):\n",
    "        total_sum += num\n",
    "    return total_sum\n",
    "numbers = list(map(int, input(\"Enter numbers separated by spaces: \").split()))\n",
    "print(total(numbers))"
   ]
  },
  {
   "cell_type": "markdown",
   "id": "a972eb20",
   "metadata": {},
   "source": [
    "3.  Write a function that takes another function and returns a new function that logs input and output using decorators and f-strings.\n",
    "\n",
    "```\n",
    "Example 1:\n",
    "Input: logged_add([3, 5])\n",
    "Output: 8\n",
    "\n",
    "Example 2:\n",
    "Input: logged_concat([\"Hello\", \"World\"])\n",
    "Output: \"HelloWorld\"\n",
    "\n",
    "Example 3:\n",
    "Input: logged_multiply([4, 2])\n",
    "Output: 8\n",
    "\n",
    "```"
   ]
  },
  {
   "cell_type": "code",
   "execution_count": 37,
   "id": "9146b473",
   "metadata": {},
   "outputs": [
    {
     "name": "stdout",
     "output_type": "stream",
     "text": [
      "Calling \"add\" function with arguments (['Hello', 'World'],) and keyword arguments {}\n",
      "\"add\" got executed and returning HelloWorld\n",
      "HelloWorld\n",
      "Calling \"multiply\" function with arguments ([2, 3],) and keyword arguments {}\n",
      "\"multiply\" got executed and returning 6\n",
      "6\n"
     ]
    }
   ],
   "source": [
    "def logger(func):\n",
    "    def wrapper(*args, **kwargs):\n",
    "        print(f'Calling \"{func.__name__}\" function with arguments {args} and keyword arguments {kwargs}')\n",
    "        result = func(*args, **kwargs)\n",
    "        print(f'\"{func.__name__}\" got executed and returning {result}')\n",
    "        return result\n",
    "    return wrapper\n",
    "\n",
    "@logger\n",
    "def add(lst):\n",
    "    return lst[0] + lst[1]\n",
    "\n",
    "print(add([\"Hello\", \"World\"]))\n",
    "\n",
    "@logger\n",
    "def multiply(lst):\n",
    "    return lst[0] * lst[1]\n",
    "print(multiply([2, 3]))"
   ]
  },
  {
   "cell_type": "code",
   "execution_count": null,
   "id": "eac0115c",
   "metadata": {},
   "outputs": [],
   "source": []
  }
 ],
 "metadata": {
  "kernelspec": {
   "display_name": ".venv",
   "language": "python",
   "name": "python3"
  },
  "language_info": {
   "codemirror_mode": {
    "name": "ipython",
    "version": 3
   },
   "file_extension": ".py",
   "mimetype": "text/x-python",
   "name": "python",
   "nbconvert_exporter": "python",
   "pygments_lexer": "ipython3",
   "version": "3.12.7"
  }
 },
 "nbformat": 4,
 "nbformat_minor": 5
}
