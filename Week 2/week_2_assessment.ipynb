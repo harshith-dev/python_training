{
 "cells": [
  {
   "cell_type": "markdown",
   "id": "92dd001e",
   "metadata": {},
   "source": [
    "1.  Write a function that uses a lambda to double a number.\n",
    "```\n",
    "Example 1:\n",
    "Input: 5\n",
    "Output: 10\n",
    "\n",
    "Example 2:\n",
    "Input: 12\n",
    "Output: 24\n",
    "\n",
    "Example 3:\n",
    "Input: -7\n",
    "Output: -14\n",
    "```"
   ]
  },
  {
   "cell_type": "code",
   "execution_count": 9,
   "id": "9852f795",
   "metadata": {},
   "outputs": [
    {
     "name": "stdout",
     "output_type": "stream",
     "text": [
      "-42.0\n"
     ]
    }
   ],
   "source": [
    "try:\n",
    "    a = float(input(\"Enter a number: \"))\n",
    "    double = lambda x: x * 2\n",
    "    b = double(a)\n",
    "    print(b)\n",
    "except ValueError:\n",
    "    print(\"Invalid input. Please enter a valid number.\")"
   ]
  },
  {
   "cell_type": "markdown",
   "id": "2448e869",
   "metadata": {},
   "source": [
    "2. Write a function that takes a list and returns a new list with only even numbers using filter.\n",
    "```\n",
    "Example 1:\n",
    "Input: [1, 2, 3, 4, 5, 6]\n",
    "Output: [2, 4, 6]\n",
    "\n",
    "Example 2:\n",
    "Input: [11, 13, 15, 18, 20]\n",
    "Output: [18, 20]\n",
    "\n",
    "Example 3:\n",
    "Input: [7, 9, 21]\n",
    "Output: []\n",
    "```"
   ]
  },
  {
   "cell_type": "code",
   "execution_count": 30,
   "id": "a68e43d0",
   "metadata": {},
   "outputs": [
    {
     "name": "stdout",
     "output_type": "stream",
     "text": [
      "[2, 4, 6]\n"
     ]
    }
   ],
   "source": [
    "def filter_even(numbers):\n",
    "    return list(filter(lambda x: x % 2 == 0, numbers))\n",
    "\n",
    "try:\n",
    "    numbers = list(map(int, input(\"Enter numbers separated by spaces: \").split()))\n",
    "    even_numbers = filter_even(numbers)\n",
    "    print(even_numbers)\n",
    "except ValueError:\n",
    "    print(\"Invalid input. Please enter valid integers separated by spaces.\")"
   ]
  },
  {
   "cell_type": "markdown",
   "id": "863ba813",
   "metadata": {},
   "source": [
    "3.  Write a decorator that times the execution of a function and prints the time taken.\n",
    "```\n",
    "Example 1:\n",
    "A function that adds numbers from 1 to 1,000,000\n",
    "Output: Time taken: ~0.05 seconds\n",
    "\n",
    "Example 2:\n",
    "A function that sleeps for 2 seconds\n",
    "Output: Time taken: ~2.00 seconds\n",
    "\n",
    "Example 3:\n",
    "A function that multiplies two numbers (e.g., 10 * 20)\n",
    "Output: Time taken: ~0.00001 seconds\n",
    "\n",
    "```\n"
   ]
  },
  {
   "cell_type": "code",
   "execution_count": 31,
   "id": "9d515618",
   "metadata": {},
   "outputs": [
    {
     "name": "stdout",
     "output_type": "stream",
     "text": [
      "Time taken: 0.021647214889526367 seconds\n",
      "\n",
      "\n",
      "Time taken: 2.0006988048553467 seconds\n",
      "\n",
      "\n",
      "Time taken: 1.6689300537109375e-06 seconds\n"
     ]
    }
   ],
   "source": [
    "import time\n",
    "def time_cal(func):\n",
    "    def wrapper(*args, **kwargs):\n",
    "        start_time = time.time()\n",
    "        result = func(*args, **kwargs)\n",
    "        end_time = time.time()\n",
    "        print(f\"Time taken: {end_time - start_time} seconds\")\n",
    "    return wrapper\n",
    "\n",
    "@time_cal\n",
    "def calculate_sum(n):\n",
    "    return sum(range(1,n + 1))\n",
    "\n",
    "@time_cal\n",
    "def sleep_two_seconds():\n",
    "    time.sleep(2)\n",
    "\n",
    "@time_cal\n",
    "def multiply(x, y):\n",
    "    return x * y\n",
    "\n",
    "calculate_sum(1000000)  \n",
    "print(\"\\n\") \n",
    "sleep_two_seconds()\n",
    "print(\"\\n\")\n",
    "multiply(10, 20)\n"
   ]
  },
  {
   "cell_type": "markdown",
   "id": "ae58f417",
   "metadata": {},
   "source": [
    "4. Write a recursive function that takes a number n and returns a list of all numbers from n down to 1 and then back up to n.\n",
    "```\n",
    "Example 1:\n",
    "Input: 3\n",
    "Output: [3, 2, 1, 2, 3]\n",
    "\n",
    "Example 2:\n",
    "Input: 5\n",
    "Output: [5, 4, 3, 2, 1, 2, 3, 4, 5]\n",
    "```"
   ]
  },
  {
   "cell_type": "code",
   "execution_count": 32,
   "id": "f06c5517",
   "metadata": {},
   "outputs": [
    {
     "name": "stdout",
     "output_type": "stream",
     "text": [
      "[5, 4, 3, 2, 1, 2, 3, 4, 5]\n"
     ]
    }
   ],
   "source": [
    "def down_to_up(n):\n",
    "    if n == 1:\n",
    "        return [1]\n",
    "    else:\n",
    "        return [n] + down_to_up(n - 1) + [n]\n",
    "\n",
    "try:\n",
    "    n = int(input(\"Enter a positive integer: \"))\n",
    "    \n",
    "    if n < 1:\n",
    "        raise ValueError(\"Number must be positive.\")\n",
    "\n",
    "    result = down_to_up(n)\n",
    "    print(result)\n",
    "\n",
    "except ValueError as e:\n",
    "    print(f\"Invalid input: {e}\")"
   ]
  }
 ],
 "metadata": {
  "kernelspec": {
   "display_name": ".venv",
   "language": "python",
   "name": "python3"
  },
  "language_info": {
   "codemirror_mode": {
    "name": "ipython",
    "version": 3
   },
   "file_extension": ".py",
   "mimetype": "text/x-python",
   "name": "python",
   "nbconvert_exporter": "python",
   "pygments_lexer": "ipython3",
   "version": "3.13.3"
  }
 },
 "nbformat": 4,
 "nbformat_minor": 5
}
